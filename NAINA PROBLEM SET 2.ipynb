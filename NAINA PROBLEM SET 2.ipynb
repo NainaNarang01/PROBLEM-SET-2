{
 "cells": [
  {
   "cell_type": "code",
   "execution_count": 1,
   "id": "09aebe1f",
   "metadata": {},
   "outputs": [
    {
     "data": {
      "text/plain": [
       "6"
      ]
     },
     "execution_count": 1,
     "metadata": {},
     "output_type": "execute_result"
    }
   ],
   "source": [
    "a = 0\n",
    "def b():\n",
    "    global a\n",
    "    a = c(a)\n",
    "def c(a):\n",
    "    return a + 2\n",
    "b()   # Value of a upto this is 2\n",
    "b()   #  Value of a upto this is 4\n",
    "b()   #  Value of a upto this is 6\n",
    "a"
   ]
  },
  {
   "cell_type": "code",
   "execution_count": 2,
   "id": "1b2b8985",
   "metadata": {},
   "outputs": [
    {
     "data": {
      "text/plain": [
       "'File files.txt not found.'"
      ]
     },
     "execution_count": 2,
     "metadata": {},
     "output_type": "execute_result"
    }
   ],
   "source": [
    "import os\n",
    "\n",
    "\n",
    "# function to check length of file\n",
    "\n",
    "def fileLength(file_name):\n",
    "    try:\n",
    "        length = (os.path.getsize(file_name))\n",
    "        print(length)\n",
    "    except  FileNotFoundError:\n",
    "        return \"File \" + file_name + \" not found.\"\n",
    "fileLength(\"files.txt\")\n"
   ]
  },
  {
   "cell_type": "code",
   "execution_count": 1,
   "id": "488e3522",
   "metadata": {},
   "outputs": [
    {
     "name": "stdout",
     "output_type": "stream",
     "text": [
      "contents in the list are\n",
      "['doll', 'firetruck', 'kitten']\n",
      "I am a Kangaroo located at coordinates(3,0)\n"
     ]
    }
   ],
   "source": [
    " class Marsupial:                        #Marsupial parent class\n",
    "    \n",
    "    def __init__(self,x,y):             #defining constructor to take input x and y variables of parent class\n",
    "        self.pouch=[]                   \n",
    "        \n",
    "        \n",
    "    def put_in_pouch(self,items):        #items appended to the empty self.pouch() list\n",
    "        self.pouch.append(items)\n",
    "        \n",
    "    def pouch_contents(self):           \n",
    "        return self.pouch\n",
    "\n",
    "class Kangaroo(Marsupial):              #creating sub-class Kangaroo of parent class\n",
    "    def __init__(self,x,y):              \n",
    "        super().__init__(x,y)          #extending Marsupial constructor to take coordinates x and y both \n",
    "        self.dx = 0                      \n",
    "        self.dy = 0                        \n",
    "    \n",
    "    def jump(self,x,y):                 \n",
    "        self.dx = self.dx + x               #defining jump function to jump the coordinates of Kangaroo as per input \n",
    "        self.dy = self.dy + y\n",
    "    \n",
    "    def __str__(self):                                                        #overload the _str_ operator \n",
    "        \n",
    "        return ('I am a Kangaroo located at coordinates({},{})'.format(self.dx,self.dy))\n",
    "\n",
    "k = Kangaroo(0,0)\n",
    "k.put_in_pouch('doll')\n",
    "k.put_in_pouch('firetruck')\n",
    "k.put_in_pouch('kitten')\n",
    "k.pouch_contents()\n",
    "print(\"contents in the list are\")\n",
    "print(k.pouch)  \n",
    "k.jump(1,0)\n",
    "k.jump(1,0)\n",
    "k.jump(1,0)\n",
    "print(k)"
   ]
  },
  {
   "cell_type": "code",
   "execution_count": 3,
   "id": "4df29e1a",
   "metadata": {},
   "outputs": [
    {
     "name": "stdout",
     "output_type": "stream",
     "text": [
      "10\n",
      "5\n",
      "16\n",
      "8\n",
      "4\n",
      "2\n",
      "1\n"
     ]
    }
   ],
   "source": [
    "n = 0\n",
    "\n",
    "def collatz(x):\n",
    "   global h\n",
    "   print(x)\n",
    "   n += 1\n",
    "   if x==1:\n",
    "     return \n",
    "   if x % 2 == 0:\n",
    "     return collatz((x // 2))\n",
    "   if x % 2 == 1:\n",
    "     return collatz(((x * 3) + 1))\n",
    "\n",
    "collatz(10)"
   ]
  },
  {
   "cell_type": "code",
   "execution_count": 4,
   "id": "9d57d143",
   "metadata": {},
   "outputs": [
    {
     "name": "stdout",
     "output_type": "stream",
     "text": [
      "1001"
     ]
    }
   ],
   "source": [
    "def binary(n):\n",
    "   if n < 2:\n",
    "    print(int(n), end = '')\n",
    "   else:\n",
    "     binary(n / 2)\n",
    "     print(int(n % 2), end = '')\n",
    "\n",
    "binary(9)"
   ]
  },
  {
   "cell_type": "code",
   "execution_count": 2,
   "id": "0048f6f5",
   "metadata": {},
   "outputs": [
    {
     "ename": "FileNotFoundError",
     "evalue": "[Errno 2] No such file or directory: 'w3c.html'",
     "output_type": "error",
     "traceback": [
      "\u001b[1;31m---------------------------------------------------------------------------\u001b[0m",
      "\u001b[1;31mFileNotFoundError\u001b[0m                         Traceback (most recent call last)",
      "Input \u001b[1;32mIn [2]\u001b[0m, in \u001b[0;36m<cell line: 31>\u001b[1;34m()\u001b[0m\n\u001b[0;32m     26\u001b[0m         \u001b[38;5;28;01mif\u001b[39;00m \u001b[38;5;28mself\u001b[39m\u001b[38;5;241m.\u001b[39mlasttag \u001b[38;5;241m==\u001b[39m \u001b[38;5;124m'\u001b[39m\u001b[38;5;124mh1\u001b[39m\u001b[38;5;124m'\u001b[39m \u001b[38;5;129;01mor\u001b[39;00m \u001b[38;5;28mself\u001b[39m\u001b[38;5;241m.\u001b[39mlasttag \u001b[38;5;241m==\u001b[39m \u001b[38;5;124m'\u001b[39m\u001b[38;5;124mh2\u001b[39m\u001b[38;5;124m'\u001b[39m \u001b[38;5;129;01mor\u001b[39;00m \u001b[38;5;28mself\u001b[39m\u001b[38;5;241m.\u001b[39mlasttag \u001b[38;5;241m==\u001b[39m \u001b[38;5;124m'\u001b[39m\u001b[38;5;124mh3\u001b[39m\u001b[38;5;124m'\u001b[39m \u001b[38;5;129;01mor\u001b[39;00m \u001b[38;5;28mself\u001b[39m\u001b[38;5;241m.\u001b[39mlasttag \u001b[38;5;241m==\u001b[39m \u001b[38;5;124m'\u001b[39m\u001b[38;5;124mh4\u001b[39m\u001b[38;5;124m'\u001b[39m \u001b[38;5;129;01mor\u001b[39;00m \u001b[38;5;28mself\u001b[39m\u001b[38;5;241m.\u001b[39mlasttag \u001b[38;5;241m==\u001b[39m \u001b[38;5;124m'\u001b[39m\u001b[38;5;124mh5\u001b[39m\u001b[38;5;124m'\u001b[39m \u001b[38;5;129;01mor\u001b[39;00m \u001b[38;5;28mself\u001b[39m\u001b[38;5;241m.\u001b[39mlasttag \u001b[38;5;241m==\u001b[39m \u001b[38;5;124m'\u001b[39m\u001b[38;5;124mh6\u001b[39m\u001b[38;5;124m'\u001b[39m \u001b[38;5;129;01mand\u001b[39;00m \u001b[38;5;28mself\u001b[39m\u001b[38;5;241m.\u001b[39minLink \u001b[38;5;129;01mand\u001b[39;00m data\u001b[38;5;241m.\u001b[39mstrip():\n\u001b[0;32m     27\u001b[0m             \u001b[38;5;28mprint\u001b[39m(data, end \u001b[38;5;241m=\u001b[39m \u001b[38;5;124m\"\u001b[39m\u001b[38;5;124m\"\u001b[39m)\n\u001b[1;32m---> 31\u001b[0m infile \u001b[38;5;241m=\u001b[39m \u001b[38;5;28;43mopen\u001b[39;49m\u001b[43m(\u001b[49m\u001b[38;5;124;43m'\u001b[39;49m\u001b[38;5;124;43mw3c.html\u001b[39;49m\u001b[38;5;124;43m'\u001b[39;49m\u001b[43m)\u001b[49m\n\u001b[0;32m     32\u001b[0m content \u001b[38;5;241m=\u001b[39m infile\u001b[38;5;241m.\u001b[39mread()\n\u001b[0;32m     33\u001b[0m infile\u001b[38;5;241m.\u001b[39mclose()\n",
      "\u001b[1;31mFileNotFoundError\u001b[0m: [Errno 2] No such file or directory: 'w3c.html'"
     ]
    }
   ],
   "source": [
    "from html.parser import HTMLParser\n",
    "\n",
    "class HeadingParser(HTMLParser):\n",
    "\n",
    "  def _init_(self):\n",
    "        HTMLParser._init_(self)\n",
    "        self.inLink = False\n",
    "        self.dataArray = []\n",
    "        self.countLanguages = 0\n",
    "        self.lasttag = None\n",
    "        self.lastname = None\n",
    "        self.lastvalue = None\n",
    "\n",
    "  def handle_starttag(self, tag, attrs):\n",
    "        self.inLink = False\n",
    "        if tag == 'h1' or tag == 'h2' or tag == 'h3' or tag == 'h4' or tag == 'h5' or tag == 'h6':\n",
    "           self.countLanguages += 1\n",
    "           self.inLink = True\n",
    "           self.lasttag = tag\n",
    "\n",
    "  def handle_endtag(self, tag):\n",
    "        if tag == \"h1\" or tag == \"h2\" or tag == \"h3\" or tag == \"h4\" or tag == \"h5\" or tag == \"h6\":\n",
    "            self.inlink = False\n",
    "\n",
    "  def handle_data(self, data):\n",
    "        if self.lasttag == 'h1' or self.lasttag == 'h2' or self.lasttag == 'h3' or self.lasttag == 'h4' or self.lasttag == 'h5' or self.lasttag == 'h6' and self.inLink and data.strip():\n",
    "            print(data, end = \"\")\n",
    "\n",
    "\n",
    "\n",
    "infile = open('w3c.html')\n",
    "content = infile.read()\n",
    "infile.close()\n",
    "hp = HeadingParser()\n",
    "hp.feed(content)"
   ]
  },
  {
   "cell_type": "code",
   "execution_count": null,
   "id": "348d50d1",
   "metadata": {},
   "outputs": [],
   "source": [
    "from urllib.parse import urljoin from html.parser import HTMLParser from urllib.request import urlopen\n",
    "\n",
    "class Collector(HTMLParser):\n",
    "\n",
    "def __init__(self, url):\n",
    "    HTMLParser.__init__(self)\n",
    "    self.url = url\n",
    "    self.links = []\n",
    "\n",
    "\n",
    "def handle_starttag(self, tag, attrs):\n",
    "    if tag == 'a':\n",
    "        for attr in attrs:\n",
    "            if attr[0] == 'href':\n",
    "                absolute = urljoin(self.url, attr[1])\n",
    "                if absolute[:4] == 'http': # collect HTTP URLs\n",
    "                    self.links.append(absolute)\n",
    "                    \n",
    "def getLinks(self):\n",
    "    return self.links\n",
    "def Links(url): resource = urlopen(url) content = resource.read().decode() collector = Collector(url) collector.feed(content) return collector.getLinks()\n",
    "\n",
    "def getLinks(self): return self.links\n",
    "\n",
    "global deep def displayUrl(url,presentDepth): padding = len(url) + (presentDepth*indentation) string = url.center(padding,\" \") print(string)\n",
    "\n",
    "def crawl(url,presentDepth):\n",
    "\n",
    "if(presentDepth>deep): return   \n",
    "displayUrl(url,presentDepth)\n",
    "\n",
    "links = Links(url)\n",
    "\n",
    "for link in links:\n",
    "    try:\n",
    "        crawl(link,presentDepth+1)\n",
    "    except:\n",
    "        pass\n",
    "def webdir(url,depth,indent): global indentation deep=depth\n",
    "\n",
    "crawl(url, 0)"
   ]
  },
  {
   "cell_type": "code",
   "execution_count": 3,
   "id": "15d8d315",
   "metadata": {},
   "outputs": [
    {
     "ename": "OperationalError",
     "evalue": "table WEATHER already exists",
     "output_type": "error",
     "traceback": [
      "\u001b[1;31m---------------------------------------------------------------------------\u001b[0m",
      "\u001b[1;31mOperationalError\u001b[0m                          Traceback (most recent call last)",
      "Input \u001b[1;32mIn [3]\u001b[0m, in \u001b[0;36m<cell line: 4>\u001b[1;34m()\u001b[0m\n\u001b[0;32m      2\u001b[0m cn \u001b[38;5;241m=\u001b[39m sqlite3\u001b[38;5;241m.\u001b[39mconnect(\u001b[38;5;124m'\u001b[39m\u001b[38;5;124mSIMRAN.db\u001b[39m\u001b[38;5;124m'\u001b[39m)\n\u001b[0;32m      3\u001b[0m cr \u001b[38;5;241m=\u001b[39m cn\u001b[38;5;241m.\u001b[39mcursor()\n\u001b[1;32m----> 4\u001b[0m \u001b[43mcr\u001b[49m\u001b[38;5;241;43m.\u001b[39;49m\u001b[43mexecute\u001b[49m\u001b[43m(\u001b[49m\u001b[38;5;124;43m\"\u001b[39;49m\u001b[38;5;124;43mcreate table WEATHER (City text, Country text, Season text, Temperature float, Rainfall float)\u001b[39;49m\u001b[38;5;124;43m\"\u001b[39;49m\u001b[43m)\u001b[49m\n\u001b[0;32m      6\u001b[0m weather_list \u001b[38;5;241m=\u001b[39m [\n\u001b[0;32m      7\u001b[0m     (\u001b[38;5;124m'\u001b[39m\u001b[38;5;124mMumbai\u001b[39m\u001b[38;5;124m'\u001b[39m,\u001b[38;5;124m'\u001b[39m\u001b[38;5;124mIndia\u001b[39m\u001b[38;5;124m'\u001b[39m, \u001b[38;5;124m'\u001b[39m\u001b[38;5;124mWinter\u001b[39m\u001b[38;5;124m'\u001b[39m,\u001b[38;5;124m'\u001b[39m\u001b[38;5;124m24.8\u001b[39m\u001b[38;5;124m'\u001b[39m, \u001b[38;5;124m'\u001b[39m\u001b[38;5;124m5.9\u001b[39m\u001b[38;5;124m'\u001b[39m),\n\u001b[0;32m      8\u001b[0m     (\u001b[38;5;124m'\u001b[39m\u001b[38;5;124mMumbai\u001b[39m\u001b[38;5;124m'\u001b[39m,\u001b[38;5;124m'\u001b[39m\u001b[38;5;124mIndia\u001b[39m\u001b[38;5;124m'\u001b[39m, \u001b[38;5;124m'\u001b[39m\u001b[38;5;124mSpring\u001b[39m\u001b[38;5;124m'\u001b[39m,\u001b[38;5;124m'\u001b[39m\u001b[38;5;124m28.4\u001b[39m\u001b[38;5;124m'\u001b[39m, \u001b[38;5;124m'\u001b[39m\u001b[38;5;124m16.2\u001b[39m\u001b[38;5;124m'\u001b[39m),\n\u001b[1;32m   (...)\u001b[0m\n\u001b[0;32m     18\u001b[0m     (\u001b[38;5;124m'\u001b[39m\u001b[38;5;124mCairo\u001b[39m\u001b[38;5;124m'\u001b[39m,\u001b[38;5;124m'\u001b[39m\u001b[38;5;124mEgypt\u001b[39m\u001b[38;5;124m'\u001b[39m, \u001b[38;5;124m'\u001b[39m\u001b[38;5;124mFall\u001b[39m\u001b[38;5;124m'\u001b[39m,\u001b[38;5;124m'\u001b[39m\u001b[38;5;124m22.2\u001b[39m\u001b[38;5;124m'\u001b[39m, \u001b[38;5;124m'\u001b[39m\u001b[38;5;124m4.5\u001b[39m\u001b[38;5;124m'\u001b[39m)\n\u001b[0;32m     19\u001b[0m ]\n\u001b[0;32m     20\u001b[0m cr\u001b[38;5;241m.\u001b[39mexecutemany(\u001b[38;5;124m\"\u001b[39m\u001b[38;5;124minsert into WEATHER values (?, ?, ?, ?, ?)\u001b[39m\u001b[38;5;124m\"\u001b[39m, weather_list)\n",
      "\u001b[1;31mOperationalError\u001b[0m: table WEATHER already exists"
     ]
    }
   ],
   "source": [
    "import sqlite3\n",
    "cn = sqlite3.connect('NAINA'.db')\n",
    "cr = cn.cursor()\n",
    "cr.execute(\"create table WEATHER (City text, Country text, Season text, Temperature float, Rainfall float)\")\n",
    "\n",
    "weather_list = [\n",
    "    ('Mumbai','India', 'Winter','24.8', '5.9'),\n",
    "    ('Mumbai','India', 'Spring','28.4', '16.2'),\n",
    "    ('Mumbai','India', 'Summer','27.9', '1549.4'),\n",
    "    ('Mumbai','India', 'Fall','27.6', '346.0'),\n",
    "    ('London','United Kingdom', 'Winter','4.2', '207.7'),\n",
    "    ('London','United Kingdom', 'Spring','8.3', '169.6'),\n",
    "    ('London','United Kingdom', 'Summer','15.7', '157.0'),\n",
    "    ('London','United Kingdom', 'Fall','10.4', '218.5'),\n",
    "    ('Cairo','Egypt', 'Winter','13.6', '16.5'),\n",
    "    ('Cairo','Egypt', 'Spring','20.7', '6.5'),\n",
    "    ('Cairo','Egypt', 'Summer','27.7', '0.1'),\n",
    "    ('Cairo','Egypt', 'Fall','22.2', '4.5')\n",
    "]\n",
    "cr.executemany(\"insert into WEATHER values (?, ?, ?, ?, ?)\", weather_list)\n",
    "cn.commit()\n",
    "cr.execute(\"select Season from WEATHER\")\n",
    "for per_Record_Display in cr:\n",
    "    print(per_Record_Display)\n",
    "    cr.execute(\"select Temperature from WEATHER\")\n",
    "for rec in cr:\n",
    "    print(rec)\n",
    "    cr.execute(\"select DISTINCT City from WEATHER\")\n",
    "for per_Record_Display in cr:\n",
    "    print(rec)\n",
    "    cr.execute(\"select * from WEATHER where Country='India'\")\n",
    "for rec in cr:\n",
    "    print(rec)\n",
    "    cr.execute(\"select * from WEATHER where Season='Fall'\")\n",
    "for rec in cr:\n",
    "    print(rec)\n",
    "    execute(\"SELECT  City, Country, Season, AVG(Rainfall) FROM WEATHER GROUP BY Rainfall Having AVG(Rainfall) BETWEEN 200 AND 400;\")\n",
    "for rec in cr:\n",
    "    print(rec)\n",
    "    cr.execute(\"select City, Country, AVG(Temperature) FROM WEATHER WHERE Season = 'Fall' group by Temperature HAVING AVG(Temperature) > 20\")\n",
    "for rec in cr:\n",
    "    print(rec)\n",
    "    cr.execute(\"select City, SUM(Rainfall) FROM WEATHER where City='Cairo'\")\n",
    "for rec in cr:\n",
    "    print(rec)\n",
    "    cr.execute(\"select Season, SUM(Rainfall) FROM WEATHER group by Season\")\n",
    "for rec in cr:\n",
    "    print(rec)"
   ]
  },
  {
   "cell_type": "code",
   "execution_count": 4,
   "id": "1a8f8e54",
   "metadata": {},
   "outputs": [
    {
     "name": "stdout",
     "output_type": "stream",
     "text": [
      "['THE', 'QUICK', 'BROWN', 'FOX', 'JUMPS', 'OVER', 'THE', 'LAZY', 'DOG']\n",
      "['the', 'quick', 'brown', 'fox', 'jumps', 'over', 'the', 'lazy', 'dog']\n",
      "[3, 5, 5, 3, 5, 4, 3, 4, 3]\n",
      "[['THE', 'the', 3], ['QUICK', 'quick', 5], ['BROWN', 'brown', 5], ['FOX', 'fox', 3], ['JUMPS', 'jumps', 5], ['OVER', 'over', 4], ['THE', 'the', 3], ['LAZY', 'lazy', 4], ['DOG', 'dog', 3]]\n",
      "['The', 'quick', 'brown', 'fox', 'jumps', 'over', 'the', 'lazy', 'dog']\n"
     ]
    }
   ],
   "source": [
    "words = ['The', 'quick', 'brown', 'fox', 'jumps', 'over', 'the', 'lazy', 'dog']\n",
    "print([k.upper() for k in words])\n",
    "print([k.lower() for k in words])\n",
    "print([len(k) for k in words])\n",
    "print([[k.upper(), k.lower(), len(k)]for k in words])\n",
    "print([k for k in words if len(k) >= 3])"
   ]
  },
  {
   "cell_type": "code",
   "execution_count": null,
   "id": "1f0dd180",
   "metadata": {},
   "outputs": [],
   "source": []
  },
  {
   "cell_type": "code",
   "execution_count": null,
   "id": "74d3c9ee",
   "metadata": {},
   "outputs": [],
   "source": []
  }
 ],
 "metadata": {
  "kernelspec": {
   "display_name": "Python 3 (ipykernel)",
   "language": "python",
   "name": "python3"
  },
  "language_info": {
   "codemirror_mode": {
    "name": "ipython",
    "version": 3
   },
   "file_extension": ".py",
   "mimetype": "text/x-python",
   "name": "python",
   "nbconvert_exporter": "python",
   "pygments_lexer": "ipython3",
   "version": "3.9.12"
  }
 },
 "nbformat": 4,
 "nbformat_minor": 5
}
